{
  "nbformat": 4,
  "nbformat_minor": 0,
  "metadata": {
    "colab": {
      "name": "Bank_Loan_Modelling.ipynb",
      "provenance": [],
      "collapsed_sections": [],
      "authorship_tag": "ABX9TyO2TdFpe4LmLv/FKFfksxLD",
      "include_colab_link": true
    },
    "kernelspec": {
      "name": "python3",
      "display_name": "Python 3"
    },
    "language_info": {
      "name": "python"
    }
  },
  "cells": [
    {
      "cell_type": "markdown",
      "metadata": {
        "id": "view-in-github",
        "colab_type": "text"
      },
      "source": [
        "<a href=\"https://colab.research.google.com/github/sabaakram539/Bank_Loan_Modelling/blob/main/Bank_Loan_Modelling.ipynb\" target=\"_parent\"><img src=\"https://colab.research.google.com/assets/colab-badge.svg\" alt=\"Open In Colab\"/></a>"
      ]
    },
    {
      "cell_type": "markdown",
      "metadata": {
        "id": "pWasSYt3j1rN"
      },
      "source": [
        "## About the dataset\n",
        "The case is about a bank \"Thera Bank\" which has growing customer base. Majority of thesecustomers are liability customers (depositors) with varying size of deposits. The number of customers who are also boorrowers (asset customers) is quite small, and the bank is innterested in expanding its base rapidly to bring in more loan business and in the process, earn more through the interest on loans. In particular, the management wants to explore ways of converting it liability customers to personal loan customers (while retaining them as depositors). A campaign that the bank ran last year for liability customers showed a healthy conversion rate over 9% success. This has encauraged the retail marketing department to device campaigns to better target marketing to increase the success ratio with a minimal budget.\n",
        "\n",
        "The department wants to buils a model that will help them identify the potential customers who have a higher probablity of purchasing the loan. This will increase the success ratio while at the same time reduce the cost of the campaign."
      ]
    },
    {
      "cell_type": "code",
      "metadata": {
        "id": "jjtwvXueRLPu"
      },
      "source": [
        "import pandas as pd"
      ],
      "execution_count": 136,
      "outputs": []
    },
    {
      "cell_type": "code",
      "metadata": {
        "id": "4_6yYdaEp0HJ"
      },
      "source": [
        "dataset=pd.read_excel(\"Bank_Personal_Loan_Modelling.xlsx\",sheet_name=1)"
      ],
      "execution_count": 137,
      "outputs": []
    },
    {
      "cell_type": "code",
      "metadata": {
        "colab": {
          "base_uri": "https://localhost:8080/",
          "height": 204
        },
        "id": "rJmgaaopqWhT",
        "outputId": "4f6aeca0-c4ee-4a46-dbf2-27563ee68e26"
      },
      "source": [
        "dataset.head()"
      ],
      "execution_count": 138,
      "outputs": [
        {
          "output_type": "execute_result",
          "data": {
            "text/html": [
              "<div>\n",
              "<style scoped>\n",
              "    .dataframe tbody tr th:only-of-type {\n",
              "        vertical-align: middle;\n",
              "    }\n",
              "\n",
              "    .dataframe tbody tr th {\n",
              "        vertical-align: top;\n",
              "    }\n",
              "\n",
              "    .dataframe thead th {\n",
              "        text-align: right;\n",
              "    }\n",
              "</style>\n",
              "<table border=\"1\" class=\"dataframe\">\n",
              "  <thead>\n",
              "    <tr style=\"text-align: right;\">\n",
              "      <th></th>\n",
              "      <th>ID</th>\n",
              "      <th>Age</th>\n",
              "      <th>Experience</th>\n",
              "      <th>Income</th>\n",
              "      <th>ZIP Code</th>\n",
              "      <th>Family</th>\n",
              "      <th>CCAvg</th>\n",
              "      <th>Education</th>\n",
              "      <th>Mortgage</th>\n",
              "      <th>Personal Loan</th>\n",
              "      <th>Securities Account</th>\n",
              "      <th>CD Account</th>\n",
              "      <th>Online</th>\n",
              "      <th>CreditCard</th>\n",
              "    </tr>\n",
              "  </thead>\n",
              "  <tbody>\n",
              "    <tr>\n",
              "      <th>0</th>\n",
              "      <td>1</td>\n",
              "      <td>25</td>\n",
              "      <td>1</td>\n",
              "      <td>49</td>\n",
              "      <td>91107</td>\n",
              "      <td>4</td>\n",
              "      <td>1.6</td>\n",
              "      <td>1</td>\n",
              "      <td>0</td>\n",
              "      <td>0</td>\n",
              "      <td>1</td>\n",
              "      <td>0</td>\n",
              "      <td>0</td>\n",
              "      <td>0</td>\n",
              "    </tr>\n",
              "    <tr>\n",
              "      <th>1</th>\n",
              "      <td>2</td>\n",
              "      <td>45</td>\n",
              "      <td>19</td>\n",
              "      <td>34</td>\n",
              "      <td>90089</td>\n",
              "      <td>3</td>\n",
              "      <td>1.5</td>\n",
              "      <td>1</td>\n",
              "      <td>0</td>\n",
              "      <td>0</td>\n",
              "      <td>1</td>\n",
              "      <td>0</td>\n",
              "      <td>0</td>\n",
              "      <td>0</td>\n",
              "    </tr>\n",
              "    <tr>\n",
              "      <th>2</th>\n",
              "      <td>3</td>\n",
              "      <td>39</td>\n",
              "      <td>15</td>\n",
              "      <td>11</td>\n",
              "      <td>94720</td>\n",
              "      <td>1</td>\n",
              "      <td>1.0</td>\n",
              "      <td>1</td>\n",
              "      <td>0</td>\n",
              "      <td>0</td>\n",
              "      <td>0</td>\n",
              "      <td>0</td>\n",
              "      <td>0</td>\n",
              "      <td>0</td>\n",
              "    </tr>\n",
              "    <tr>\n",
              "      <th>3</th>\n",
              "      <td>4</td>\n",
              "      <td>35</td>\n",
              "      <td>9</td>\n",
              "      <td>100</td>\n",
              "      <td>94112</td>\n",
              "      <td>1</td>\n",
              "      <td>2.7</td>\n",
              "      <td>2</td>\n",
              "      <td>0</td>\n",
              "      <td>0</td>\n",
              "      <td>0</td>\n",
              "      <td>0</td>\n",
              "      <td>0</td>\n",
              "      <td>0</td>\n",
              "    </tr>\n",
              "    <tr>\n",
              "      <th>4</th>\n",
              "      <td>5</td>\n",
              "      <td>35</td>\n",
              "      <td>8</td>\n",
              "      <td>45</td>\n",
              "      <td>91330</td>\n",
              "      <td>4</td>\n",
              "      <td>1.0</td>\n",
              "      <td>2</td>\n",
              "      <td>0</td>\n",
              "      <td>0</td>\n",
              "      <td>0</td>\n",
              "      <td>0</td>\n",
              "      <td>0</td>\n",
              "      <td>1</td>\n",
              "    </tr>\n",
              "  </tbody>\n",
              "</table>\n",
              "</div>"
            ],
            "text/plain": [
              "   ID  Age  Experience  ...  CD Account  Online  CreditCard\n",
              "0   1   25           1  ...           0       0           0\n",
              "1   2   45          19  ...           0       0           0\n",
              "2   3   39          15  ...           0       0           0\n",
              "3   4   35           9  ...           0       0           0\n",
              "4   5   35           8  ...           0       0           1\n",
              "\n",
              "[5 rows x 14 columns]"
            ]
          },
          "metadata": {},
          "execution_count": 138
        }
      ]
    },
    {
      "cell_type": "markdown",
      "metadata": {
        "id": "2iy8YCIBq5S4"
      },
      "source": [
        "## Preprocessing"
      ]
    },
    {
      "cell_type": "code",
      "metadata": {
        "colab": {
          "base_uri": "https://localhost:8080/"
        },
        "id": "SGCPebuyqdLk",
        "outputId": "8c2f4f1d-9cd0-44a3-ac56-729d9e65ed46"
      },
      "source": [
        "dataset.shape"
      ],
      "execution_count": 139,
      "outputs": [
        {
          "output_type": "execute_result",
          "data": {
            "text/plain": [
              "(5000, 14)"
            ]
          },
          "metadata": {},
          "execution_count": 139
        }
      ]
    },
    {
      "cell_type": "code",
      "metadata": {
        "colab": {
          "base_uri": "https://localhost:8080/"
        },
        "id": "Fm_jnPX2qxZq",
        "outputId": "3aaf36b2-496c-4aa7-fa2c-41199be5034e"
      },
      "source": [
        "dataset.columns"
      ],
      "execution_count": 140,
      "outputs": [
        {
          "output_type": "execute_result",
          "data": {
            "text/plain": [
              "Index(['ID', 'Age', 'Experience', 'Income', 'ZIP Code', 'Family', 'CCAvg',\n",
              "       'Education', 'Mortgage', 'Personal Loan', 'Securities Account',\n",
              "       'CD Account', 'Online', 'CreditCard'],\n",
              "      dtype='object')"
            ]
          },
          "metadata": {},
          "execution_count": 140
        }
      ]
    },
    {
      "cell_type": "code",
      "metadata": {
        "colab": {
          "base_uri": "https://localhost:8080/"
        },
        "id": "97XXoQTMrtEM",
        "outputId": "93314903-ed78-4165-bdc0-ba0ef8266889"
      },
      "source": [
        "dataset.info()"
      ],
      "execution_count": 141,
      "outputs": [
        {
          "output_type": "stream",
          "text": [
            "<class 'pandas.core.frame.DataFrame'>\n",
            "RangeIndex: 5000 entries, 0 to 4999\n",
            "Data columns (total 14 columns):\n",
            " #   Column              Non-Null Count  Dtype  \n",
            "---  ------              --------------  -----  \n",
            " 0   ID                  5000 non-null   int64  \n",
            " 1   Age                 5000 non-null   int64  \n",
            " 2   Experience          5000 non-null   int64  \n",
            " 3   Income              5000 non-null   int64  \n",
            " 4   ZIP Code            5000 non-null   int64  \n",
            " 5   Family              5000 non-null   int64  \n",
            " 6   CCAvg               5000 non-null   float64\n",
            " 7   Education           5000 non-null   int64  \n",
            " 8   Mortgage            5000 non-null   int64  \n",
            " 9   Personal Loan       5000 non-null   int64  \n",
            " 10  Securities Account  5000 non-null   int64  \n",
            " 11  CD Account          5000 non-null   int64  \n",
            " 12  Online              5000 non-null   int64  \n",
            " 13  CreditCard          5000 non-null   int64  \n",
            "dtypes: float64(1), int64(13)\n",
            "memory usage: 547.0 KB\n"
          ],
          "name": "stdout"
        }
      ]
    },
    {
      "cell_type": "code",
      "metadata": {
        "colab": {
          "base_uri": "https://localhost:8080/"
        },
        "id": "RywRgQoJq0A4",
        "outputId": "df535fbf-bb4a-44ad-e4e0-b9ed09d020a6"
      },
      "source": [
        "# Checking for null\n",
        "dataset.isnull().sum()"
      ],
      "execution_count": 142,
      "outputs": [
        {
          "output_type": "execute_result",
          "data": {
            "text/plain": [
              "ID                    0\n",
              "Age                   0\n",
              "Experience            0\n",
              "Income                0\n",
              "ZIP Code              0\n",
              "Family                0\n",
              "CCAvg                 0\n",
              "Education             0\n",
              "Mortgage              0\n",
              "Personal Loan         0\n",
              "Securities Account    0\n",
              "CD Account            0\n",
              "Online                0\n",
              "CreditCard            0\n",
              "dtype: int64"
            ]
          },
          "metadata": {},
          "execution_count": 142
        }
      ]
    },
    {
      "cell_type": "markdown",
      "metadata": {
        "id": "pZUNrTyVrCW6"
      },
      "source": [
        "No null values."
      ]
    },
    {
      "cell_type": "code",
      "metadata": {
        "id": "hXsQfumzrAO7"
      },
      "source": [
        "# Removing duplicates if any.\n",
        "dataset=dataset.drop_duplicates()"
      ],
      "execution_count": 143,
      "outputs": []
    },
    {
      "cell_type": "code",
      "metadata": {
        "id": "iEH81tuqsaaV"
      },
      "source": [
        "# Removing unimportant columns\n",
        "dataset.drop(['ID','ZIP Code'],axis=1,inplace=True)"
      ],
      "execution_count": 144,
      "outputs": []
    },
    {
      "cell_type": "code",
      "metadata": {
        "colab": {
          "base_uri": "https://localhost:8080/",
          "height": 111
        },
        "id": "64Uo9Q1Os5xU",
        "outputId": "fcd04f2a-5b94-4e95-d6bf-045945496d6b"
      },
      "source": [
        "dataset.head(2)"
      ],
      "execution_count": 145,
      "outputs": [
        {
          "output_type": "execute_result",
          "data": {
            "text/html": [
              "<div>\n",
              "<style scoped>\n",
              "    .dataframe tbody tr th:only-of-type {\n",
              "        vertical-align: middle;\n",
              "    }\n",
              "\n",
              "    .dataframe tbody tr th {\n",
              "        vertical-align: top;\n",
              "    }\n",
              "\n",
              "    .dataframe thead th {\n",
              "        text-align: right;\n",
              "    }\n",
              "</style>\n",
              "<table border=\"1\" class=\"dataframe\">\n",
              "  <thead>\n",
              "    <tr style=\"text-align: right;\">\n",
              "      <th></th>\n",
              "      <th>Age</th>\n",
              "      <th>Experience</th>\n",
              "      <th>Income</th>\n",
              "      <th>Family</th>\n",
              "      <th>CCAvg</th>\n",
              "      <th>Education</th>\n",
              "      <th>Mortgage</th>\n",
              "      <th>Personal Loan</th>\n",
              "      <th>Securities Account</th>\n",
              "      <th>CD Account</th>\n",
              "      <th>Online</th>\n",
              "      <th>CreditCard</th>\n",
              "    </tr>\n",
              "  </thead>\n",
              "  <tbody>\n",
              "    <tr>\n",
              "      <th>0</th>\n",
              "      <td>25</td>\n",
              "      <td>1</td>\n",
              "      <td>49</td>\n",
              "      <td>4</td>\n",
              "      <td>1.6</td>\n",
              "      <td>1</td>\n",
              "      <td>0</td>\n",
              "      <td>0</td>\n",
              "      <td>1</td>\n",
              "      <td>0</td>\n",
              "      <td>0</td>\n",
              "      <td>0</td>\n",
              "    </tr>\n",
              "    <tr>\n",
              "      <th>1</th>\n",
              "      <td>45</td>\n",
              "      <td>19</td>\n",
              "      <td>34</td>\n",
              "      <td>3</td>\n",
              "      <td>1.5</td>\n",
              "      <td>1</td>\n",
              "      <td>0</td>\n",
              "      <td>0</td>\n",
              "      <td>1</td>\n",
              "      <td>0</td>\n",
              "      <td>0</td>\n",
              "      <td>0</td>\n",
              "    </tr>\n",
              "  </tbody>\n",
              "</table>\n",
              "</div>"
            ],
            "text/plain": [
              "   Age  Experience  Income  ...  CD Account  Online  CreditCard\n",
              "0   25           1      49  ...           0       0           0\n",
              "1   45          19      34  ...           0       0           0\n",
              "\n",
              "[2 rows x 12 columns]"
            ]
          },
          "metadata": {},
          "execution_count": 145
        }
      ]
    },
    {
      "cell_type": "code",
      "metadata": {
        "colab": {
          "base_uri": "https://localhost:8080/"
        },
        "id": "9fdwsjKvrLZg",
        "outputId": "af1cf18e-3865-46fa-be59-923759cacaae"
      },
      "source": [
        "dataset.columns"
      ],
      "execution_count": 146,
      "outputs": [
        {
          "output_type": "execute_result",
          "data": {
            "text/plain": [
              "Index(['Age', 'Experience', 'Income', 'Family', 'CCAvg', 'Education',\n",
              "       'Mortgage', 'Personal Loan', 'Securities Account', 'CD Account',\n",
              "       'Online', 'CreditCard'],\n",
              "      dtype='object')"
            ]
          },
          "metadata": {},
          "execution_count": 146
        }
      ]
    },
    {
      "cell_type": "code",
      "metadata": {
        "colab": {
          "base_uri": "https://localhost:8080/"
        },
        "id": "QLeuKgTo1fq5",
        "outputId": "e469990a-1983-4544-e477-d20a643d02fe"
      },
      "source": [
        "dataset.Family.unique()"
      ],
      "execution_count": 147,
      "outputs": [
        {
          "output_type": "execute_result",
          "data": {
            "text/plain": [
              "array([4, 3, 1, 2])"
            ]
          },
          "metadata": {},
          "execution_count": 147
        }
      ]
    },
    {
      "cell_type": "code",
      "metadata": {
        "colab": {
          "base_uri": "https://localhost:8080/"
        },
        "id": "G5_BQwJQ1-gZ",
        "outputId": "88571789-ade5-4fae-f4a7-5ce02e9bd007"
      },
      "source": [
        "dataset.Education.unique()"
      ],
      "execution_count": 148,
      "outputs": [
        {
          "output_type": "execute_result",
          "data": {
            "text/plain": [
              "array([1, 2, 3])"
            ]
          },
          "metadata": {},
          "execution_count": 148
        }
      ]
    },
    {
      "cell_type": "code",
      "metadata": {
        "colab": {
          "base_uri": "https://localhost:8080/"
        },
        "id": "-s2RziiJ2Jwq",
        "outputId": "2388643f-e329-45fe-b38a-71848eb5ed1a"
      },
      "source": [
        "dataset['Personal Loan'].unique()"
      ],
      "execution_count": 149,
      "outputs": [
        {
          "output_type": "execute_result",
          "data": {
            "text/plain": [
              "array([0, 1])"
            ]
          },
          "metadata": {},
          "execution_count": 149
        }
      ]
    },
    {
      "cell_type": "code",
      "metadata": {
        "colab": {
          "base_uri": "https://localhost:8080/"
        },
        "id": "F3Up_wrj2ZPe",
        "outputId": "15021f38-5bb6-4144-d341-ba97d1458ac8"
      },
      "source": [
        "dataset['Securities Account'].unique()"
      ],
      "execution_count": 150,
      "outputs": [
        {
          "output_type": "execute_result",
          "data": {
            "text/plain": [
              "array([1, 0])"
            ]
          },
          "metadata": {},
          "execution_count": 150
        }
      ]
    },
    {
      "cell_type": "code",
      "metadata": {
        "colab": {
          "base_uri": "https://localhost:8080/"
        },
        "id": "gJo-VU3V2fWZ",
        "outputId": "ff7b6dbe-6bcc-45cd-bebc-93e50f86fd73"
      },
      "source": [
        "dataset['CD Account'].unique()"
      ],
      "execution_count": 151,
      "outputs": [
        {
          "output_type": "execute_result",
          "data": {
            "text/plain": [
              "array([0, 1])"
            ]
          },
          "metadata": {},
          "execution_count": 151
        }
      ]
    },
    {
      "cell_type": "code",
      "metadata": {
        "colab": {
          "base_uri": "https://localhost:8080/"
        },
        "id": "qX9ZH5ez2kkc",
        "outputId": "6e7dc263-dbbe-4336-96a1-437f133adcf9"
      },
      "source": [
        "dataset['Online'].unique()"
      ],
      "execution_count": 152,
      "outputs": [
        {
          "output_type": "execute_result",
          "data": {
            "text/plain": [
              "array([0, 1])"
            ]
          },
          "metadata": {},
          "execution_count": 152
        }
      ]
    },
    {
      "cell_type": "code",
      "metadata": {
        "colab": {
          "base_uri": "https://localhost:8080/"
        },
        "id": "lqDvEMP32q0K",
        "outputId": "93b4dca9-f1f1-47f7-c62e-1313a2d9d428"
      },
      "source": [
        "dataset['CreditCard'].unique()"
      ],
      "execution_count": 153,
      "outputs": [
        {
          "output_type": "execute_result",
          "data": {
            "text/plain": [
              "array([0, 1])"
            ]
          },
          "metadata": {},
          "execution_count": 153
        }
      ]
    },
    {
      "cell_type": "markdown",
      "metadata": {
        "id": "ddofHLRC3Tw3"
      },
      "source": [
        "*   Continuous variables are Age, Experience, Income, Family, CCAvg, Mortgage.\n",
        "*   Categorical variables are Education, Personal Loan, Securities Account, CD Account, Online and CredidCard.\n",
        "\n"
      ]
    },
    {
      "cell_type": "code",
      "metadata": {
        "colab": {
          "base_uri": "https://localhost:8080/"
        },
        "id": "K7pqvvv06hTF",
        "outputId": "8a605e67-576b-4ce1-ba3f-840767ee5fd4"
      },
      "source": [
        "dataset[['Age','Experience','Income','Family','CCAvg','Mortgage']].mean()"
      ],
      "execution_count": 154,
      "outputs": [
        {
          "output_type": "execute_result",
          "data": {
            "text/plain": [
              "Age           45.338400\n",
              "Experience    20.104600\n",
              "Income        73.774200\n",
              "Family         2.396400\n",
              "CCAvg          1.937913\n",
              "Mortgage      56.498800\n",
              "dtype: float64"
            ]
          },
          "metadata": {},
          "execution_count": 154
        }
      ]
    },
    {
      "cell_type": "code",
      "metadata": {
        "id": "3Uqw00Jy1DD-",
        "colab": {
          "base_uri": "https://localhost:8080/",
          "height": 297
        },
        "outputId": "6d418a74-fc2a-438e-c83d-682c748f4d31"
      },
      "source": [
        "bankloan_yes[['Age','Experience','Income','Family','CCAvg','Mortgage']].describe()"
      ],
      "execution_count": 155,
      "outputs": [
        {
          "output_type": "execute_result",
          "data": {
            "text/html": [
              "<div>\n",
              "<style scoped>\n",
              "    .dataframe tbody tr th:only-of-type {\n",
              "        vertical-align: middle;\n",
              "    }\n",
              "\n",
              "    .dataframe tbody tr th {\n",
              "        vertical-align: top;\n",
              "    }\n",
              "\n",
              "    .dataframe thead th {\n",
              "        text-align: right;\n",
              "    }\n",
              "</style>\n",
              "<table border=\"1\" class=\"dataframe\">\n",
              "  <thead>\n",
              "    <tr style=\"text-align: right;\">\n",
              "      <th></th>\n",
              "      <th>Age</th>\n",
              "      <th>Experience</th>\n",
              "      <th>Income</th>\n",
              "      <th>Family</th>\n",
              "      <th>CCAvg</th>\n",
              "      <th>Mortgage</th>\n",
              "    </tr>\n",
              "  </thead>\n",
              "  <tbody>\n",
              "    <tr>\n",
              "      <th>count</th>\n",
              "      <td>480.000000</td>\n",
              "      <td>480.000000</td>\n",
              "      <td>480.000000</td>\n",
              "      <td>480.000000</td>\n",
              "      <td>480.000000</td>\n",
              "      <td>480.000000</td>\n",
              "    </tr>\n",
              "    <tr>\n",
              "      <th>mean</th>\n",
              "      <td>45.066667</td>\n",
              "      <td>19.843750</td>\n",
              "      <td>144.745833</td>\n",
              "      <td>2.612500</td>\n",
              "      <td>3.905347</td>\n",
              "      <td>100.845833</td>\n",
              "    </tr>\n",
              "    <tr>\n",
              "      <th>std</th>\n",
              "      <td>11.590964</td>\n",
              "      <td>11.582443</td>\n",
              "      <td>31.584429</td>\n",
              "      <td>1.115393</td>\n",
              "      <td>2.097679</td>\n",
              "      <td>160.847862</td>\n",
              "    </tr>\n",
              "    <tr>\n",
              "      <th>min</th>\n",
              "      <td>26.000000</td>\n",
              "      <td>0.000000</td>\n",
              "      <td>60.000000</td>\n",
              "      <td>1.000000</td>\n",
              "      <td>0.000000</td>\n",
              "      <td>0.000000</td>\n",
              "    </tr>\n",
              "    <tr>\n",
              "      <th>25%</th>\n",
              "      <td>35.000000</td>\n",
              "      <td>9.000000</td>\n",
              "      <td>122.000000</td>\n",
              "      <td>2.000000</td>\n",
              "      <td>2.600000</td>\n",
              "      <td>0.000000</td>\n",
              "    </tr>\n",
              "    <tr>\n",
              "      <th>50%</th>\n",
              "      <td>45.000000</td>\n",
              "      <td>20.000000</td>\n",
              "      <td>142.500000</td>\n",
              "      <td>3.000000</td>\n",
              "      <td>3.800000</td>\n",
              "      <td>0.000000</td>\n",
              "    </tr>\n",
              "    <tr>\n",
              "      <th>75%</th>\n",
              "      <td>55.000000</td>\n",
              "      <td>30.000000</td>\n",
              "      <td>172.000000</td>\n",
              "      <td>4.000000</td>\n",
              "      <td>5.350000</td>\n",
              "      <td>192.500000</td>\n",
              "    </tr>\n",
              "    <tr>\n",
              "      <th>max</th>\n",
              "      <td>65.000000</td>\n",
              "      <td>41.000000</td>\n",
              "      <td>203.000000</td>\n",
              "      <td>4.000000</td>\n",
              "      <td>10.000000</td>\n",
              "      <td>617.000000</td>\n",
              "    </tr>\n",
              "  </tbody>\n",
              "</table>\n",
              "</div>"
            ],
            "text/plain": [
              "              Age  Experience      Income      Family       CCAvg    Mortgage\n",
              "count  480.000000  480.000000  480.000000  480.000000  480.000000  480.000000\n",
              "mean    45.066667   19.843750  144.745833    2.612500    3.905347  100.845833\n",
              "std     11.590964   11.582443   31.584429    1.115393    2.097679  160.847862\n",
              "min     26.000000    0.000000   60.000000    1.000000    0.000000    0.000000\n",
              "25%     35.000000    9.000000  122.000000    2.000000    2.600000    0.000000\n",
              "50%     45.000000   20.000000  142.500000    3.000000    3.800000    0.000000\n",
              "75%     55.000000   30.000000  172.000000    4.000000    5.350000  192.500000\n",
              "max     65.000000   41.000000  203.000000    4.000000   10.000000  617.000000"
            ]
          },
          "metadata": {},
          "execution_count": 155
        }
      ]
    },
    {
      "cell_type": "code",
      "metadata": {
        "colab": {
          "base_uri": "https://localhost:8080/",
          "height": 297
        },
        "id": "rj2IAE4q6_kM",
        "outputId": "85b05f8c-4864-415e-8662-24e6ce7b600f"
      },
      "source": [
        "bankloan_no[['Age','Experience','Income','Family','CCAvg','Mortgage']].describe()"
      ],
      "execution_count": 156,
      "outputs": [
        {
          "output_type": "execute_result",
          "data": {
            "text/html": [
              "<div>\n",
              "<style scoped>\n",
              "    .dataframe tbody tr th:only-of-type {\n",
              "        vertical-align: middle;\n",
              "    }\n",
              "\n",
              "    .dataframe tbody tr th {\n",
              "        vertical-align: top;\n",
              "    }\n",
              "\n",
              "    .dataframe thead th {\n",
              "        text-align: right;\n",
              "    }\n",
              "</style>\n",
              "<table border=\"1\" class=\"dataframe\">\n",
              "  <thead>\n",
              "    <tr style=\"text-align: right;\">\n",
              "      <th></th>\n",
              "      <th>Age</th>\n",
              "      <th>Experience</th>\n",
              "      <th>Income</th>\n",
              "      <th>Family</th>\n",
              "      <th>CCAvg</th>\n",
              "      <th>Mortgage</th>\n",
              "    </tr>\n",
              "  </thead>\n",
              "  <tbody>\n",
              "    <tr>\n",
              "      <th>count</th>\n",
              "      <td>4520.000000</td>\n",
              "      <td>4520.000000</td>\n",
              "      <td>4520.000000</td>\n",
              "      <td>4520.000000</td>\n",
              "      <td>4520.000000</td>\n",
              "      <td>4520.000000</td>\n",
              "    </tr>\n",
              "    <tr>\n",
              "      <th>mean</th>\n",
              "      <td>45.367257</td>\n",
              "      <td>20.132301</td>\n",
              "      <td>66.237389</td>\n",
              "      <td>2.373451</td>\n",
              "      <td>1.728982</td>\n",
              "      <td>51.789381</td>\n",
              "    </tr>\n",
              "    <tr>\n",
              "      <th>std</th>\n",
              "      <td>11.450427</td>\n",
              "      <td>11.456672</td>\n",
              "      <td>40.578534</td>\n",
              "      <td>1.148771</td>\n",
              "      <td>1.567654</td>\n",
              "      <td>92.038931</td>\n",
              "    </tr>\n",
              "    <tr>\n",
              "      <th>min</th>\n",
              "      <td>23.000000</td>\n",
              "      <td>-3.000000</td>\n",
              "      <td>8.000000</td>\n",
              "      <td>1.000000</td>\n",
              "      <td>0.000000</td>\n",
              "      <td>0.000000</td>\n",
              "    </tr>\n",
              "    <tr>\n",
              "      <th>25%</th>\n",
              "      <td>35.000000</td>\n",
              "      <td>10.000000</td>\n",
              "      <td>35.000000</td>\n",
              "      <td>1.000000</td>\n",
              "      <td>0.600000</td>\n",
              "      <td>0.000000</td>\n",
              "    </tr>\n",
              "    <tr>\n",
              "      <th>50%</th>\n",
              "      <td>45.000000</td>\n",
              "      <td>20.000000</td>\n",
              "      <td>59.000000</td>\n",
              "      <td>2.000000</td>\n",
              "      <td>1.400000</td>\n",
              "      <td>0.000000</td>\n",
              "    </tr>\n",
              "    <tr>\n",
              "      <th>75%</th>\n",
              "      <td>55.000000</td>\n",
              "      <td>30.000000</td>\n",
              "      <td>84.000000</td>\n",
              "      <td>3.000000</td>\n",
              "      <td>2.300000</td>\n",
              "      <td>98.000000</td>\n",
              "    </tr>\n",
              "    <tr>\n",
              "      <th>max</th>\n",
              "      <td>67.000000</td>\n",
              "      <td>43.000000</td>\n",
              "      <td>224.000000</td>\n",
              "      <td>4.000000</td>\n",
              "      <td>8.800000</td>\n",
              "      <td>635.000000</td>\n",
              "    </tr>\n",
              "  </tbody>\n",
              "</table>\n",
              "</div>"
            ],
            "text/plain": [
              "               Age   Experience  ...        CCAvg     Mortgage\n",
              "count  4520.000000  4520.000000  ...  4520.000000  4520.000000\n",
              "mean     45.367257    20.132301  ...     1.728982    51.789381\n",
              "std      11.450427    11.456672  ...     1.567654    92.038931\n",
              "min      23.000000    -3.000000  ...     0.000000     0.000000\n",
              "25%      35.000000    10.000000  ...     0.600000     0.000000\n",
              "50%      45.000000    20.000000  ...     1.400000     0.000000\n",
              "75%      55.000000    30.000000  ...     2.300000    98.000000\n",
              "max      67.000000    43.000000  ...     8.800000   635.000000\n",
              "\n",
              "[8 rows x 6 columns]"
            ]
          },
          "metadata": {},
          "execution_count": 156
        }
      ]
    },
    {
      "cell_type": "markdown",
      "metadata": {
        "id": "de3OPezn7UAa"
      },
      "source": [
        "## Exploration and Visualization"
      ]
    },
    {
      "cell_type": "code",
      "metadata": {
        "id": "EyoW8QnT7E6u"
      },
      "source": [
        "import matplotlib.pyplot as plt"
      ],
      "execution_count": 157,
      "outputs": []
    },
    {
      "cell_type": "code",
      "metadata": {
        "colab": {
          "base_uri": "https://localhost:8080/",
          "height": 1000
        },
        "id": "KkCR_Yn-8GVR",
        "outputId": "c826d93d-bff5-49d0-e5b7-e2f4c48176ff"
      },
      "source": [
        "for i, predictor in enumerate(dataset[['Age','Experience','Income','Family','CCAvg','Mortgage']]):\n",
        "  plt.figure(i)\n",
        "  plt.xlabel(predictor)\n",
        "  plt.ylabel(\"Count\")\n",
        "  plt.title(\"Count per Category\")\n",
        "  plt.hist(dataset[predictor])"
      ],
      "execution_count": 158,
      "outputs": [
        {
          "output_type": "display_data",
          "data": {
            "image/png": "[encoded data removed]",
            "text/plain": [
              "<Figure size 432x288 with 1 Axes>"
            ]
          },
          "metadata": {
            "needs_background": "light"
          }
        },
        {
          "output_type": "display_data",
          "data": {
            "image/png": "[encoded data removed]",
            "text/plain": [
              "<Figure size 432x288 with 1 Axes>"
            ]
          },
          "metadata": {
            "needs_background": "light"
          }
        },
        {
          "output_type": "display_data",
          "data": {
            "image/png": "[encoded data removed]",
            "text/plain": [
              "<Figure size 432x288 with 1 Axes>"
            ]
          },
          "metadata": {
            "needs_background": "light"
          }
        },
        {
          "output_type": "display_data",
          "data": {
            "image/png": "[encoded data removed]",
            "text/plain": [
              "<Figure size 432x288 with 1 Axes>"
            ]
          },
          "metadata": {
            "needs_background": "light"
          }
        },
        {
          "output_type": "display_data",
          "data": {
            "image/png": "[encoded data removed]",
            "text/plain": [
              "<Figure size 432x288 with 1 Axes>"
            ]
          },
          "metadata": {
            "needs_background": "light"
          }
        },
        {
          "output_type": "display_data",
          "data": {
            "image/png": "[encoded data removed]",
            "text/plain": [
              "<Figure size 432x288 with 1 Axes>"
            ]
          },
          "metadata": {
            "needs_background": "light"
          }
        }
      ]
    },
    {
      "cell_type": "code",
      "metadata": {
        "colab": {
          "base_uri": "https://localhost:8080/",
          "height": 1000
        },
        "id": "NG44tW5_BLZM",
        "outputId": "0a9909d0-8c0f-4d83-839f-3ef07bd47e5f"
      },
      "source": [
        "for i, predictor in enumerate(dataset[['Age','Experience','Income','Family','CCAvg','Mortgage']]):\n",
        "  plt.figure(i)\n",
        "  plt.xlabel(predictor)\n",
        "  plt.ylabel(\"Count\")\n",
        "  plt.title(\"Boxplot\")\n",
        "  plt.boxplot(dataset[predictor])"
      ],
      "execution_count": 159,
      "outputs": [
        {
          "output_type": "display_data",
          "data": {
            "image/png": "[encoded data removed]",
            "text/plain": [
              "<Figure size 432x288 with 1 Axes>"
            ]
          },
          "metadata": {
            "needs_background": "light"
          }
        },
        {
          "output_type": "display_data",
          "data": {
            "image/png": "[encoded data removed]",
            "text/plain": [
              "<Figure size 432x288 with 1 Axes>"
            ]
          },
          "metadata": {
            "needs_background": "light"
          }
        },
        {
          "output_type": "display_data",
          "data": {
            "image/png": "[encoded data removed]",
            "text/plain": [
              "<Figure size 432x288 with 1 Axes>"
            ]
          },
          "metadata": {
            "needs_background": "light"
          }
        },
        {
          "output_type": "display_data",
          "data": {
            "image/png": "[encoded data removed]",
            "text/plain": [
              "<Figure size 432x288 with 1 Axes>"
            ]
          },
          "metadata": {
            "needs_background": "light"
          }
        },
        {
          "output_type": "display_data",
          "data": {
            "image/png": "[encoded data removed]",
            "text/plain": [
              "<Figure size 432x288 with 1 Axes>"
            ]
          },
          "metadata": {
            "needs_background": "light"
          }
        },
        {
          "output_type": "display_data",
          "data": {
            "image/png": "[encoded data removed]",
            "text/plain": [
              "<Figure size 432x288 with 1 Axes>"
            ]
          },
          "metadata": {
            "needs_background": "light"
          }
        }
      ]
    },
    {
      "cell_type": "code",
      "metadata": {
        "colab": {
          "base_uri": "https://localhost:8080/"
        },
        "id": "vPEChbPs96aT",
        "outputId": "f26fbfcd-edad-467f-f399-0f2c4b51955d"
      },
      "source": [
        "dataset.columns"
      ],
      "execution_count": 160,
      "outputs": [
        {
          "output_type": "execute_result",
          "data": {
            "text/plain": [
              "Index(['Age', 'Experience', 'Income', 'Family', 'CCAvg', 'Education',\n",
              "       'Mortgage', 'Personal Loan', 'Securities Account', 'CD Account',\n",
              "       'Online', 'CreditCard'],\n",
              "      dtype='object')"
            ]
          },
          "metadata": {},
          "execution_count": 160
        }
      ]
    },
    {
      "cell_type": "code",
      "metadata": {
        "id": "U0ZJmdiE8gjY"
      },
      "source": [
        "import seaborn as sns"
      ],
      "execution_count": 161,
      "outputs": []
    },
    {
      "cell_type": "code",
      "metadata": {
        "colab": {
          "base_uri": "https://localhost:8080/",
          "height": 1000
        },
        "id": "J9WS4hej9szf",
        "outputId": "3b513edf-421b-4f75-cb01-d1f357473dc6"
      },
      "source": [
        "for i, predictor in enumerate(dataset[['Education', 'Securities Account', 'CD Account',\n",
        "       'Online', 'CreditCard']]):\n",
        "  plt.figure(i)\n",
        "  sns.countplot(data=dataset,x=predictor,hue=\"Personal Loan\")"
      ],
      "execution_count": 162,
      "outputs": [
        {
          "output_type": "display_data",
          "data": {
            "image/png": "[encoded data removed]",
            "text/plain": [
              "<Figure size 432x288 with 1 Axes>"
            ]
          },
          "metadata": {
            "needs_background": "light"
          }
        },
        {
          "output_type": "display_data",
          "data": {
            "image/png": "[encoded data removed]",
            "text/plain": [
              "<Figure size 432x288 with 1 Axes>"
            ]
          },
          "metadata": {
            "needs_background": "light"
          }
        },
        {
          "output_type": "display_data",
          "data": {
            "image/png": "[encoded data removed]",
            "text/plain": [
              "<Figure size 432x288 with 1 Axes>"
            ]
          },
          "metadata": {
            "needs_background": "light"
          }
        },
        {
          "output_type": "display_data",
          "data": {
            "image/png": "[encoded data removed]",
            "text/plain": [
              "<Figure size 432x288 with 1 Axes>"
            ]
          },
          "metadata": {
            "needs_background": "light"
          }
        },
        {
          "output_type": "display_data",
          "data": {
            "image/png": "[encoded data removed]",
            "text/plain": [
              "<Figure size 432x288 with 1 Axes>"
            ]
          },
          "metadata": {
            "needs_background": "light"
          }
        }
      ]
    },
    {
      "cell_type": "markdown",
      "metadata": {
        "id": "PrLg93DCGd1q"
      },
      "source": [
        "By observing the above variables, we get that \n",
        "\n",
        "\n",
        "*   Normal Distribution :- Age, Experience and Income.\n",
        "*   Not-Normal Distribution :- Mortgage and CCAvg.\n",
        "*   Categorical Distribution :-  Education, Family, Securities Account, CD Account, Online and CreditCards.\n",
        "\n"
      ]
    },
    {
      "cell_type": "code",
      "metadata": {
        "id": "XoNRvFZ8t39c"
      },
      "source": [
        "bankloan_yes=dataset[dataset['Personal Loan']==1]\n",
        "bankloan_no=dataset[dataset['Personal Loan']==0]"
      ],
      "execution_count": 163,
      "outputs": []
    },
    {
      "cell_type": "markdown",
      "metadata": {
        "id": "vYz3Gd69Hy7b"
      },
      "source": [
        "We will perform ttest ind for normally distributed variable, manwhitney test for not-normal distribution and chi_square test for categorical distribution."
      ]
    },
    {
      "cell_type": "markdown",
      "metadata": {
        "id": "DP-IkVolNHLh"
      },
      "source": [
        "ttest independent"
      ]
    },
    {
      "cell_type": "code",
      "metadata": {
        "id": "Xa4c9O2VHXTT"
      },
      "source": [
        "from scipy.stats import ttest_ind"
      ],
      "execution_count": 164,
      "outputs": []
    },
    {
      "cell_type": "markdown",
      "metadata": {
        "id": "BwLeUsDfRkad"
      },
      "source": [
        "* H0=There is no signiificant difference in the sanction of loan with respect to Average Age.\n",
        "* HA= There is signiificant difference in the sanction of loan with respect to Average Age."
      ]
    },
    {
      "cell_type": "code",
      "metadata": {
        "colab": {
          "base_uri": "https://localhost:8080/"
        },
        "id": "4vDJoZ5iJhfW",
        "outputId": "c488a31e-2eaa-4971-c46a-61c713fd0222"
      },
      "source": [
        "stats,p=ttest_ind(bankloan_yes.Age,bankloan_no.Age)\n",
        "print(stats,p)"
      ],
      "execution_count": 165,
      "outputs": [
        {
          "output_type": "stream",
          "text": [
            "-0.5461906615539323 0.584959263705325\n"
          ],
          "name": "stdout"
        }
      ]
    },
    {
      "cell_type": "markdown",
      "metadata": {
        "id": "DzBX6poBUFpm"
      },
      "source": [
        "P Value is greater than 0.05. Therefore H0 is accepted.\n",
        "There is no significannt difference between the sanction of loans with respect to Average Age."
      ]
    },
    {
      "cell_type": "markdown",
      "metadata": {
        "id": "2BMxirE6SGD8"
      },
      "source": [
        "* H0=There is no signiificant difference in the sanction of loan with respect to Average Experience.\n",
        "* HA= There is signiificant difference in the sanction of loan with respect to Average Experience."
      ]
    },
    {
      "cell_type": "code",
      "metadata": {
        "colab": {
          "base_uri": "https://localhost:8080/"
        },
        "id": "B-TrZ2GwKACm",
        "outputId": "c31aa28d-fd00-49d6-ca65-c1cd1130b0c9"
      },
      "source": [
        "stats,p=ttest_ind(bankloan_yes.Experience,bankloan_no.Experience)\n",
        "print(stats,p)"
      ],
      "execution_count": 166,
      "outputs": [
        {
          "output_type": "stream",
          "text": [
            "-0.5240947451995412 0.600235883164189\n"
          ],
          "name": "stdout"
        }
      ]
    },
    {
      "cell_type": "markdown",
      "metadata": {
        "id": "LnzZ6QRlUeYF"
      },
      "source": [
        "P Value is greater than 0.05. Therefore H0 is accepted.\n",
        "There is no significannt difference between the sanction of loans with respect to Average Experience."
      ]
    },
    {
      "cell_type": "markdown",
      "metadata": {
        "id": "eseKN0cBSJdA"
      },
      "source": [
        "* H0=There is no signiificant difference in the sanction of loan with respect to Average Income.\n",
        "* HA= There is signiificant difference in the sanction of loan with respect to Average Income."
      ]
    },
    {
      "cell_type": "code",
      "metadata": {
        "colab": {
          "base_uri": "https://localhost:8080/"
        },
        "id": "3xZYV2IyKAOp",
        "outputId": "e7dee96d-9f86-4d4b-9d0e-33fc1dc49b1e"
      },
      "source": [
        "stats,p=ttest_ind(bankloan_yes.Income,bankloan_no.Income)\n",
        "print(stats,p)"
      ],
      "execution_count": 167,
      "outputs": [
        {
          "output_type": "stream",
          "text": [
            "41.08533291207552 0.0\n"
          ],
          "name": "stdout"
        }
      ]
    },
    {
      "cell_type": "markdown",
      "metadata": {
        "id": "mgHLBz0vUkr3"
      },
      "source": [
        "P Value is less than 0.05. Therefore H0 is rejected.\n",
        "There is significannt difference between the sanction of loans with respect to Average Income."
      ]
    },
    {
      "cell_type": "markdown",
      "metadata": {
        "id": "4UuiX-OQNNMv"
      },
      "source": [
        "mannwhitney test"
      ]
    },
    {
      "cell_type": "code",
      "metadata": {
        "id": "b2MEACYAJ-Ka"
      },
      "source": [
        "from scipy.stats import mannwhitneyu"
      ],
      "execution_count": 168,
      "outputs": []
    },
    {
      "cell_type": "markdown",
      "metadata": {
        "id": "q2qEzr3CSZr0"
      },
      "source": [
        "* H0=There is no signiificant difference in the sanction of loan with respect to Mortgage.\n",
        "* HA= There is signiificant difference in the sanction of loan with respect to Mortgage."
      ]
    },
    {
      "cell_type": "code",
      "metadata": {
        "colab": {
          "base_uri": "https://localhost:8080/"
        },
        "id": "wK6u9eimKfWy",
        "outputId": "0edfe74d-554e-4ade-8ba8-34386212fec1"
      },
      "source": [
        "stats,p=mannwhitneyu(bankloan_yes.Mortgage,bankloan_no.Mortgage)\n",
        "print(stats,p)"
      ],
      "execution_count": 169,
      "outputs": [
        {
          "output_type": "stream",
          "text": [
            "974814.5 3.819046433025639e-06\n"
          ],
          "name": "stdout"
        }
      ]
    },
    {
      "cell_type": "markdown",
      "metadata": {
        "id": "u8if1mCbU7LS"
      },
      "source": [
        "P Value is less than 0.05. Therefore H0 is rejected.\n",
        "There is significannt difference between the sanction of loans with respect to Moortgage."
      ]
    },
    {
      "cell_type": "markdown",
      "metadata": {
        "id": "Y_0M57NDSbgI"
      },
      "source": [
        "* H0=There is no signiificant difference in the sanction of loan with respect to CCAvg.\n",
        "* HA= There is signiificant difference in the sanction of loan with respect to CCAvg."
      ]
    },
    {
      "cell_type": "code",
      "metadata": {
        "colab": {
          "base_uri": "https://localhost:8080/"
        },
        "id": "GMQ3E4IVM4XS",
        "outputId": "74c26b38-c4a0-4ae4-d4d5-788938f22c14"
      },
      "source": [
        "stats,p=mannwhitneyu(bankloan_yes.CCAvg,bankloan_no.CCAvg)\n",
        "print(stats,p)"
      ],
      "execution_count": 170,
      "outputs": [
        {
          "output_type": "stream",
          "text": [
            "417591.0 1.7997250113260796e-109\n"
          ],
          "name": "stdout"
        }
      ]
    },
    {
      "cell_type": "markdown",
      "metadata": {
        "id": "B53wZ1-HVDJb"
      },
      "source": [
        "P Value is less than 0.05. Therefore H0 is rejected.\n",
        "There is significannt difference between the sanction of loans with respect to CCAvg."
      ]
    },
    {
      "cell_type": "markdown",
      "metadata": {
        "id": "bdjG9DPbNTrW"
      },
      "source": [
        "Chi Square Test"
      ]
    },
    {
      "cell_type": "code",
      "metadata": {
        "id": "uP9gUpUnOO55"
      },
      "source": [
        "from scipy.stats import chi2_contingency"
      ],
      "execution_count": 171,
      "outputs": []
    },
    {
      "cell_type": "markdown",
      "metadata": {
        "id": "eTySsPRUVSLY"
      },
      "source": [
        "* H0=There is no signiificant dependency in the sanction of loan with respect to Education.\n",
        "* HA= There is signiificant dependency in the sanction of loan with respect to Education."
      ]
    },
    {
      "cell_type": "code",
      "metadata": {
        "colab": {
          "base_uri": "https://localhost:8080/",
          "height": 142
        },
        "id": "ksFy9sc_NBJ-",
        "outputId": "9a0095eb-22a1-435f-e7cf-e2854d4713d9"
      },
      "source": [
        "chitable=pd.crosstab(dataset['Personal Loan'],dataset['Education'])\n",
        "chitable"
      ],
      "execution_count": 172,
      "outputs": [
        {
          "output_type": "execute_result",
          "data": {
            "text/html": [
              "<div>\n",
              "<style scoped>\n",
              "    .dataframe tbody tr th:only-of-type {\n",
              "        vertical-align: middle;\n",
              "    }\n",
              "\n",
              "    .dataframe tbody tr th {\n",
              "        vertical-align: top;\n",
              "    }\n",
              "\n",
              "    .dataframe thead th {\n",
              "        text-align: right;\n",
              "    }\n",
              "</style>\n",
              "<table border=\"1\" class=\"dataframe\">\n",
              "  <thead>\n",
              "    <tr style=\"text-align: right;\">\n",
              "      <th>Education</th>\n",
              "      <th>1</th>\n",
              "      <th>2</th>\n",
              "      <th>3</th>\n",
              "    </tr>\n",
              "    <tr>\n",
              "      <th>Personal Loan</th>\n",
              "      <th></th>\n",
              "      <th></th>\n",
              "      <th></th>\n",
              "    </tr>\n",
              "  </thead>\n",
              "  <tbody>\n",
              "    <tr>\n",
              "      <th>0</th>\n",
              "      <td>2003</td>\n",
              "      <td>1221</td>\n",
              "      <td>1296</td>\n",
              "    </tr>\n",
              "    <tr>\n",
              "      <th>1</th>\n",
              "      <td>93</td>\n",
              "      <td>182</td>\n",
              "      <td>205</td>\n",
              "    </tr>\n",
              "  </tbody>\n",
              "</table>\n",
              "</div>"
            ],
            "text/plain": [
              "Education         1     2     3\n",
              "Personal Loan                  \n",
              "0              2003  1221  1296\n",
              "1                93   182   205"
            ]
          },
          "metadata": {},
          "execution_count": 172
        }
      ]
    },
    {
      "cell_type": "code",
      "metadata": {
        "colab": {
          "base_uri": "https://localhost:8080/"
        },
        "id": "oZ1kFRaGOC_J",
        "outputId": "bad14f76-04de-4d90-d5ad-86eab6c73c41"
      },
      "source": [
        "stats,p,dof,expexted=chi2_contingency(chitable)\n",
        "print(stats,p)"
      ],
      "execution_count": 173,
      "outputs": [
        {
          "output_type": "stream",
          "text": [
            "111.2398718738913 6.991473868665428e-25\n"
          ],
          "name": "stdout"
        }
      ]
    },
    {
      "cell_type": "markdown",
      "metadata": {
        "id": "sgf-2A33XsRg"
      },
      "source": [
        "P Value is less than 0.05. Therefore H0 is rejected.\n",
        "There is significannt dependency between the sanction of loans with respect to Education."
      ]
    },
    {
      "cell_type": "markdown",
      "metadata": {
        "id": "Dh6YpPU5VciZ"
      },
      "source": [
        "* H0=There is no signiificant dependency in the sanction of loan with respect to Family.\n",
        "* HA= There is signiificant dependency in the sanction of loan with respect to Family."
      ]
    },
    {
      "cell_type": "code",
      "metadata": {
        "colab": {
          "base_uri": "https://localhost:8080/",
          "height": 142
        },
        "id": "JEKGWW0hN7Zd",
        "outputId": "e6a21f68-b55d-4b17-9d29-c9ffadbb929e"
      },
      "source": [
        "chitable=pd.crosstab(dataset['Personal Loan'],dataset['Family'])\n",
        "chitable"
      ],
      "execution_count": 174,
      "outputs": [
        {
          "output_type": "execute_result",
          "data": {
            "text/html": [
              "<div>\n",
              "<style scoped>\n",
              "    .dataframe tbody tr th:only-of-type {\n",
              "        vertical-align: middle;\n",
              "    }\n",
              "\n",
              "    .dataframe tbody tr th {\n",
              "        vertical-align: top;\n",
              "    }\n",
              "\n",
              "    .dataframe thead th {\n",
              "        text-align: right;\n",
              "    }\n",
              "</style>\n",
              "<table border=\"1\" class=\"dataframe\">\n",
              "  <thead>\n",
              "    <tr style=\"text-align: right;\">\n",
              "      <th>Family</th>\n",
              "      <th>1</th>\n",
              "      <th>2</th>\n",
              "      <th>3</th>\n",
              "      <th>4</th>\n",
              "    </tr>\n",
              "    <tr>\n",
              "      <th>Personal Loan</th>\n",
              "      <th></th>\n",
              "      <th></th>\n",
              "      <th></th>\n",
              "      <th></th>\n",
              "    </tr>\n",
              "  </thead>\n",
              "  <tbody>\n",
              "    <tr>\n",
              "      <th>0</th>\n",
              "      <td>1365</td>\n",
              "      <td>1190</td>\n",
              "      <td>877</td>\n",
              "      <td>1088</td>\n",
              "    </tr>\n",
              "    <tr>\n",
              "      <th>1</th>\n",
              "      <td>107</td>\n",
              "      <td>106</td>\n",
              "      <td>133</td>\n",
              "      <td>134</td>\n",
              "    </tr>\n",
              "  </tbody>\n",
              "</table>\n",
              "</div>"
            ],
            "text/plain": [
              "Family            1     2    3     4\n",
              "Personal Loan                       \n",
              "0              1365  1190  877  1088\n",
              "1               107   106  133   134"
            ]
          },
          "metadata": {},
          "execution_count": 174
        }
      ]
    },
    {
      "cell_type": "code",
      "metadata": {
        "colab": {
          "base_uri": "https://localhost:8080/"
        },
        "id": "nbo8e2E9RBO-",
        "outputId": "e659033a-3a7c-4470-b045-f7bcb67ba78e"
      },
      "source": [
        "stats,p,dof,expexted=chi2_contingency(chitable)\n",
        "print(stats,p)"
      ],
      "execution_count": 175,
      "outputs": [
        {
          "output_type": "stream",
          "text": [
            "29.676116414854746 1.6144121228248757e-06\n"
          ],
          "name": "stdout"
        }
      ]
    },
    {
      "cell_type": "markdown",
      "metadata": {
        "id": "5aPLuCsdX5dY"
      },
      "source": [
        "P Value is less than 0.05. Therefore H0 is rejected. There is significannt dependency between the sanction of loans with respect to Family."
      ]
    },
    {
      "cell_type": "markdown",
      "metadata": {
        "id": "p_WJLqUrVhxf"
      },
      "source": [
        "* H0=There is no signiificant dependency in the sanction of loan with respect to Securities Account.\n",
        "* HA= There is signiificant dependency in the sanction of loan with respect to Securities Account."
      ]
    },
    {
      "cell_type": "code",
      "metadata": {
        "colab": {
          "base_uri": "https://localhost:8080/",
          "height": 142
        },
        "id": "6CNkMnOAN8Nt",
        "outputId": "844dcf52-026e-4f13-85ae-a6698c27ee90"
      },
      "source": [
        "chitable=pd.crosstab(dataset['Personal Loan'],dataset['Securities Account'])\n",
        "chitable"
      ],
      "execution_count": 176,
      "outputs": [
        {
          "output_type": "execute_result",
          "data": {
            "text/html": [
              "<div>\n",
              "<style scoped>\n",
              "    .dataframe tbody tr th:only-of-type {\n",
              "        vertical-align: middle;\n",
              "    }\n",
              "\n",
              "    .dataframe tbody tr th {\n",
              "        vertical-align: top;\n",
              "    }\n",
              "\n",
              "    .dataframe thead th {\n",
              "        text-align: right;\n",
              "    }\n",
              "</style>\n",
              "<table border=\"1\" class=\"dataframe\">\n",
              "  <thead>\n",
              "    <tr style=\"text-align: right;\">\n",
              "      <th>Securities Account</th>\n",
              "      <th>0</th>\n",
              "      <th>1</th>\n",
              "    </tr>\n",
              "    <tr>\n",
              "      <th>Personal Loan</th>\n",
              "      <th></th>\n",
              "      <th></th>\n",
              "    </tr>\n",
              "  </thead>\n",
              "  <tbody>\n",
              "    <tr>\n",
              "      <th>0</th>\n",
              "      <td>4058</td>\n",
              "      <td>462</td>\n",
              "    </tr>\n",
              "    <tr>\n",
              "      <th>1</th>\n",
              "      <td>420</td>\n",
              "      <td>60</td>\n",
              "    </tr>\n",
              "  </tbody>\n",
              "</table>\n",
              "</div>"
            ],
            "text/plain": [
              "Securities Account     0    1\n",
              "Personal Loan                \n",
              "0                   4058  462\n",
              "1                    420   60"
            ]
          },
          "metadata": {},
          "execution_count": 176
        }
      ]
    },
    {
      "cell_type": "code",
      "metadata": {
        "colab": {
          "base_uri": "https://localhost:8080/"
        },
        "id": "zW7hHNb5REYT",
        "outputId": "a4084e37-3511-4ff6-8546-b799b85b3a32"
      },
      "source": [
        "stats,p,dof,expexted=chi2_contingency(chitable)\n",
        "print(stats,p)"
      ],
      "execution_count": 177,
      "outputs": [
        {
          "output_type": "stream",
          "text": [
            "2.172310545186504 0.14051497326319357\n"
          ],
          "name": "stdout"
        }
      ]
    },
    {
      "cell_type": "markdown",
      "metadata": {
        "id": "uB1_QZwpX_98"
      },
      "source": [
        "P Value is less than 0.05. Therefore H0 is rejected. There is significannt dependency between the sanction of loans with respect to Securities Account."
      ]
    },
    {
      "cell_type": "markdown",
      "metadata": {
        "id": "fsLu7Lh2VmXZ"
      },
      "source": [
        "* H0=There is no signiificant dependency in the sanction of loan with respect to CD Account.\n",
        "* HA= There is signiificant dependency in the sanction of loan with respect to CD Account."
      ]
    },
    {
      "cell_type": "code",
      "metadata": {
        "colab": {
          "base_uri": "https://localhost:8080/",
          "height": 142
        },
        "id": "2zFGuUkON8gz",
        "outputId": "6184136d-9660-4510-b736-4e4cc75911ba"
      },
      "source": [
        "chitable=pd.crosstab(dataset['Personal Loan'],dataset['CD Account'])\n",
        "chitable"
      ],
      "execution_count": 178,
      "outputs": [
        {
          "output_type": "execute_result",
          "data": {
            "text/html": [
              "<div>\n",
              "<style scoped>\n",
              "    .dataframe tbody tr th:only-of-type {\n",
              "        vertical-align: middle;\n",
              "    }\n",
              "\n",
              "    .dataframe tbody tr th {\n",
              "        vertical-align: top;\n",
              "    }\n",
              "\n",
              "    .dataframe thead th {\n",
              "        text-align: right;\n",
              "    }\n",
              "</style>\n",
              "<table border=\"1\" class=\"dataframe\">\n",
              "  <thead>\n",
              "    <tr style=\"text-align: right;\">\n",
              "      <th>CD Account</th>\n",
              "      <th>0</th>\n",
              "      <th>1</th>\n",
              "    </tr>\n",
              "    <tr>\n",
              "      <th>Personal Loan</th>\n",
              "      <th></th>\n",
              "      <th></th>\n",
              "    </tr>\n",
              "  </thead>\n",
              "  <tbody>\n",
              "    <tr>\n",
              "      <th>0</th>\n",
              "      <td>4358</td>\n",
              "      <td>162</td>\n",
              "    </tr>\n",
              "    <tr>\n",
              "      <th>1</th>\n",
              "      <td>340</td>\n",
              "      <td>140</td>\n",
              "    </tr>\n",
              "  </tbody>\n",
              "</table>\n",
              "</div>"
            ],
            "text/plain": [
              "CD Account        0    1\n",
              "Personal Loan           \n",
              "0              4358  162\n",
              "1               340  140"
            ]
          },
          "metadata": {},
          "execution_count": 178
        }
      ]
    },
    {
      "cell_type": "code",
      "metadata": {
        "colab": {
          "base_uri": "https://localhost:8080/"
        },
        "id": "TbVhuv99RG0P",
        "outputId": "f49d1cfb-25d3-4c34-fb19-a3f16166fd8b"
      },
      "source": [
        "stats,p,dof,expexted=chi2_contingency(chitable)\n",
        "print(stats,p)"
      ],
      "execution_count": 179,
      "outputs": [
        {
          "output_type": "stream",
          "text": [
            "495.90424218782334 7.398297503329848e-110\n"
          ],
          "name": "stdout"
        }
      ]
    },
    {
      "cell_type": "markdown",
      "metadata": {
        "id": "efKXoHrqYGsI"
      },
      "source": [
        "P Value is less than 0.05. Therefore H0 is rejected. There is significannt dependency between the sanction of loans with respect to CD Account."
      ]
    },
    {
      "cell_type": "markdown",
      "metadata": {
        "id": "QbK9I0TgVqrt"
      },
      "source": [
        "* H0=There is no signiificant dependency in the sanction of loan with respect to Online.\n",
        "* HA= There is signiificant dependency in the sanction of loan with respect to Onnline."
      ]
    },
    {
      "cell_type": "code",
      "metadata": {
        "colab": {
          "base_uri": "https://localhost:8080/",
          "height": 142
        },
        "id": "b_hVgT15N8u0",
        "outputId": "056b4d23-0219-4f2d-cfa8-ed545f349cbd"
      },
      "source": [
        "chitable=pd.crosstab(dataset['Personal Loan'],dataset['Online'])\n",
        "chitable"
      ],
      "execution_count": 180,
      "outputs": [
        {
          "output_type": "execute_result",
          "data": {
            "text/html": [
              "<div>\n",
              "<style scoped>\n",
              "    .dataframe tbody tr th:only-of-type {\n",
              "        vertical-align: middle;\n",
              "    }\n",
              "\n",
              "    .dataframe tbody tr th {\n",
              "        vertical-align: top;\n",
              "    }\n",
              "\n",
              "    .dataframe thead th {\n",
              "        text-align: right;\n",
              "    }\n",
              "</style>\n",
              "<table border=\"1\" class=\"dataframe\">\n",
              "  <thead>\n",
              "    <tr style=\"text-align: right;\">\n",
              "      <th>Online</th>\n",
              "      <th>0</th>\n",
              "      <th>1</th>\n",
              "    </tr>\n",
              "    <tr>\n",
              "      <th>Personal Loan</th>\n",
              "      <th></th>\n",
              "      <th></th>\n",
              "    </tr>\n",
              "  </thead>\n",
              "  <tbody>\n",
              "    <tr>\n",
              "      <th>0</th>\n",
              "      <td>1827</td>\n",
              "      <td>2693</td>\n",
              "    </tr>\n",
              "    <tr>\n",
              "      <th>1</th>\n",
              "      <td>189</td>\n",
              "      <td>291</td>\n",
              "    </tr>\n",
              "  </tbody>\n",
              "</table>\n",
              "</div>"
            ],
            "text/plain": [
              "Online            0     1\n",
              "Personal Loan            \n",
              "0              1827  2693\n",
              "1               189   291"
            ]
          },
          "metadata": {},
          "execution_count": 180
        }
      ]
    },
    {
      "cell_type": "code",
      "metadata": {
        "colab": {
          "base_uri": "https://localhost:8080/"
        },
        "id": "P4Fv8mrbRJJF",
        "outputId": "4876e060-5c0d-4930-e346-7dbf283cdd1d"
      },
      "source": [
        "stats,p,dof,expexted=chi2_contingency(chitable)\n",
        "print(stats,p)"
      ],
      "execution_count": 181,
      "outputs": [
        {
          "output_type": "stream",
          "text": [
            "0.1560067212052492 0.6928599643141485\n"
          ],
          "name": "stdout"
        }
      ]
    },
    {
      "cell_type": "markdown",
      "metadata": {
        "id": "Gfz2YZ33YS2L"
      },
      "source": [
        "P Value is greater than 0.05. Therefore H0 is accepted. There is no significannt dependency between the sanction of loans with respect to Online."
      ]
    },
    {
      "cell_type": "markdown",
      "metadata": {
        "id": "6iIB_X9eVuuR"
      },
      "source": [
        "* H0=There is no signiificant dependency in the sanction of loan with respect to CreditCard.\n",
        "* HA= There is signiificant dependency in the sanction of loan with respect to CreditCard."
      ]
    },
    {
      "cell_type": "code",
      "metadata": {
        "colab": {
          "base_uri": "https://localhost:8080/",
          "height": 142
        },
        "id": "fi3-NjcuN84-",
        "outputId": "aa5f1831-c172-4dfe-c460-1abb69fdc6c0"
      },
      "source": [
        "chitable=pd.crosstab(dataset['Personal Loan'],dataset['CreditCard'])\n",
        "chitable"
      ],
      "execution_count": 182,
      "outputs": [
        {
          "output_type": "execute_result",
          "data": {
            "text/html": [
              "<div>\n",
              "<style scoped>\n",
              "    .dataframe tbody tr th:only-of-type {\n",
              "        vertical-align: middle;\n",
              "    }\n",
              "\n",
              "    .dataframe tbody tr th {\n",
              "        vertical-align: top;\n",
              "    }\n",
              "\n",
              "    .dataframe thead th {\n",
              "        text-align: right;\n",
              "    }\n",
              "</style>\n",
              "<table border=\"1\" class=\"dataframe\">\n",
              "  <thead>\n",
              "    <tr style=\"text-align: right;\">\n",
              "      <th>CreditCard</th>\n",
              "      <th>0</th>\n",
              "      <th>1</th>\n",
              "    </tr>\n",
              "    <tr>\n",
              "      <th>Personal Loan</th>\n",
              "      <th></th>\n",
              "      <th></th>\n",
              "    </tr>\n",
              "  </thead>\n",
              "  <tbody>\n",
              "    <tr>\n",
              "      <th>0</th>\n",
              "      <td>3193</td>\n",
              "      <td>1327</td>\n",
              "    </tr>\n",
              "    <tr>\n",
              "      <th>1</th>\n",
              "      <td>337</td>\n",
              "      <td>143</td>\n",
              "    </tr>\n",
              "  </tbody>\n",
              "</table>\n",
              "</div>"
            ],
            "text/plain": [
              "CreditCard        0     1\n",
              "Personal Loan            \n",
              "0              3193  1327\n",
              "1               337   143"
            ]
          },
          "metadata": {},
          "execution_count": 182
        }
      ]
    },
    {
      "cell_type": "code",
      "metadata": {
        "colab": {
          "base_uri": "https://localhost:8080/"
        },
        "id": "8eeazmxORLaj",
        "outputId": "0e77c706-eea5-4544-e40e-914d217695b4"
      },
      "source": [
        "stats,p,dof,expexted=chi2_contingency(chitable)\n",
        "print(stats,p)"
      ],
      "execution_count": 184,
      "outputs": [
        {
          "output_type": "stream",
          "text": [
            "0.021144453920855056 0.8843861223314504\n"
          ],
          "name": "stdout"
        }
      ]
    },
    {
      "cell_type": "markdown",
      "metadata": {
        "id": "cOfrq72CYcSi"
      },
      "source": [
        "P Value is greater than 0.05. Therefore H0 is accepted. There is no significannt dependency between the sanction of loans with respect to CreditCard."
      ]
    },
    {
      "cell_type": "markdown",
      "metadata": {
        "id": "s5qQTBZreAef"
      },
      "source": [
        "## Analysing Correlation"
      ]
    },
    {
      "cell_type": "code",
      "metadata": {
        "id": "ce05bmSKd-m9"
      },
      "source": [
        "from scipy.stats import pearsonr"
      ],
      "execution_count": 185,
      "outputs": []
    },
    {
      "cell_type": "code",
      "metadata": {
        "colab": {
          "base_uri": "https://localhost:8080/"
        },
        "id": "mn9YkGakeKlj",
        "outputId": "8f478757-c6fc-4942-dd7c-0debb43a42df"
      },
      "source": [
        "stats,p=pearsonr(dataset['Personal Loan'],dataset['Age'])\n",
        "print(stats,p)"
      ],
      "execution_count": 186,
      "outputs": [
        {
          "output_type": "stream",
          "text": [
            "-0.007725617173534038 0.5849592637162507\n"
          ],
          "name": "stdout"
        }
      ]
    },
    {
      "cell_type": "markdown",
      "metadata": {
        "id": "uryTAu1If8_V"
      },
      "source": [
        "There is no significant correlation between the sanction of loan and Age."
      ]
    },
    {
      "cell_type": "code",
      "metadata": {
        "colab": {
          "base_uri": "https://localhost:8080/"
        },
        "id": "oA_2RrS-ec1-",
        "outputId": "59417bdc-5661-4816-c0a5-88efa27da7af"
      },
      "source": [
        "stats,p=pearsonr(dataset['Personal Loan'],dataset['Experience'])\n",
        "print(stats,p)"
      ],
      "execution_count": 187,
      "outputs": [
        {
          "output_type": "stream",
          "text": [
            "-0.0074130980767702385 0.6002358831756374\n"
          ],
          "name": "stdout"
        }
      ]
    },
    {
      "cell_type": "markdown",
      "metadata": {
        "id": "VAKdpzoqfyaz"
      },
      "source": [
        "There is no significant correlation between the sanction of loan and Experience."
      ]
    },
    {
      "cell_type": "code",
      "metadata": {
        "colab": {
          "base_uri": "https://localhost:8080/"
        },
        "id": "pc-oSvLwegUa",
        "outputId": "e4980ca3-a59f-4896-fb83-29abc2beedbd"
      },
      "source": [
        "stats,p=pearsonr(dataset['Personal Loan'],dataset['Income'])\n",
        "print(stats,p)"
      ],
      "execution_count": 188,
      "outputs": [
        {
          "output_type": "stream",
          "text": [
            "0.5024622924949341 3.560286e-318\n"
          ],
          "name": "stdout"
        }
      ]
    },
    {
      "cell_type": "markdown",
      "metadata": {
        "id": "3rFKGGr2gEnC"
      },
      "source": [
        "There is significant correlation between the sanction of loan and Income."
      ]
    },
    {
      "cell_type": "code",
      "metadata": {
        "colab": {
          "base_uri": "https://localhost:8080/"
        },
        "id": "xQ3vv5KnejvT",
        "outputId": "562559b9-97b2-4ba4-a45d-ccfbeb5fac1c"
      },
      "source": [
        "stats,p=pearsonr(dataset['Personal Loan'],dataset['Mortgage'])\n",
        "print(stats,p)"
      ],
      "execution_count": 189,
      "outputs": [
        {
          "output_type": "stream",
          "text": [
            "0.14209523632788262 5.7303417216823745e-24\n"
          ],
          "name": "stdout"
        }
      ]
    },
    {
      "cell_type": "markdown",
      "metadata": {
        "id": "IXUU2IXmgJjH"
      },
      "source": [
        "There is significant correlation between the sanction of loan and Mortgage."
      ]
    },
    {
      "cell_type": "code",
      "metadata": {
        "colab": {
          "base_uri": "https://localhost:8080/"
        },
        "id": "FDOVUFOoeotp",
        "outputId": "014a6cb7-eca3-4169-bb2d-aed05ce8f2fd"
      },
      "source": [
        "stats,p=pearsonr(dataset['Personal Loan'],dataset['CCAvg'])\n",
        "print(stats,p)"
      ],
      "execution_count": 190,
      "outputs": [
        {
          "output_type": "stream",
          "text": [
            "0.36689053339797734 3.815683642017435e-159\n"
          ],
          "name": "stdout"
        }
      ]
    },
    {
      "cell_type": "markdown",
      "metadata": {
        "id": "JU7b-GPKgNV0"
      },
      "source": [
        "There is significant correlation between the sanction of loan and CCAvg."
      ]
    },
    {
      "cell_type": "code",
      "metadata": {
        "colab": {
          "base_uri": "https://localhost:8080/"
        },
        "id": "P2UlzfmxetbU",
        "outputId": "31b6d900-22d2-4cda-ba1a-a2d9869aa903"
      },
      "source": [
        "stats,p=pearsonr(dataset['Personal Loan'],dataset['Education'])\n",
        "print(stats,p)"
      ],
      "execution_count": 191,
      "outputs": [
        {
          "output_type": "stream",
          "text": [
            "0.1367215500302807 2.70966319362686e-22\n"
          ],
          "name": "stdout"
        }
      ]
    },
    {
      "cell_type": "markdown",
      "metadata": {
        "id": "7UPRFKY9gP_2"
      },
      "source": [
        "There is significant correlation between the sanction of loan and Education."
      ]
    },
    {
      "cell_type": "code",
      "metadata": {
        "colab": {
          "base_uri": "https://localhost:8080/"
        },
        "id": "bZwxQI4Dev6Z",
        "outputId": "061d6d6c-f6e1-48dd-de53-8dbc9cacc65e"
      },
      "source": [
        "stats,p=pearsonr(dataset['Personal Loan'],dataset['Family'])\n",
        "print(stats,p)"
      ],
      "execution_count": 192,
      "outputs": [
        {
          "output_type": "stream",
          "text": [
            "0.06136704401190937 1.4099040685936267e-05\n"
          ],
          "name": "stdout"
        }
      ]
    },
    {
      "cell_type": "markdown",
      "metadata": {
        "id": "R_SyIcvNgeRk"
      },
      "source": [
        "There is significant correlation between the sanction of loan and Family."
      ]
    },
    {
      "cell_type": "code",
      "metadata": {
        "colab": {
          "base_uri": "https://localhost:8080/"
        },
        "id": "-9jfjQQfeztx",
        "outputId": "d0a97ada-025e-48a3-f2cd-7fbf9fffad06"
      },
      "source": [
        "stats,p=pearsonr(dataset['Personal Loan'],dataset[\"Securities Account\"])\n",
        "print(stats,p)"
      ],
      "execution_count": 193,
      "outputs": [
        {
          "output_type": "stream",
          "text": [
            "0.02195388221631122 0.12062087855790704\n"
          ],
          "name": "stdout"
        }
      ]
    },
    {
      "cell_type": "markdown",
      "metadata": {
        "id": "kHPtrS73gjwC"
      },
      "source": [
        "There is significant correlation between the sanction of loan and Securities Account."
      ]
    },
    {
      "cell_type": "code",
      "metadata": {
        "colab": {
          "base_uri": "https://localhost:8080/"
        },
        "id": "EglLJjDve3-a",
        "outputId": "866e8d90-5f4e-417f-8c20-4ef28a7381ba"
      },
      "source": [
        "stats,p=pearsonr(dataset['Personal Loan'],dataset['CD Account'])\n",
        "print(stats,p)"
      ],
      "execution_count": 194,
      "outputs": [
        {
          "output_type": "stream",
          "text": [
            "0.31635482941440135 1.2784028484762053e-116\n"
          ],
          "name": "stdout"
        }
      ]
    },
    {
      "cell_type": "markdown",
      "metadata": {
        "id": "i4-G7vRlgp_v"
      },
      "source": [
        "There is significant correlation between the sanction of loan and CD Account."
      ]
    },
    {
      "cell_type": "code",
      "metadata": {
        "colab": {
          "base_uri": "https://localhost:8080/"
        },
        "id": "9xqCJJ_fe6qq",
        "outputId": "c9bcff1d-84c3-49fe-d5a7-8c04ba228466"
      },
      "source": [
        "stats,p=pearsonr(dataset['Personal Loan'],dataset['Online'])\n",
        "print(stats,p)"
      ],
      "execution_count": 195,
      "outputs": [
        {
          "output_type": "stream",
          "text": [
            "0.006277815396758705 0.6571857663997954\n"
          ],
          "name": "stdout"
        }
      ]
    },
    {
      "cell_type": "markdown",
      "metadata": {
        "id": "wMl0jMCAgu1L"
      },
      "source": [
        "There is no significant correlation between the sanction of loan and Online."
      ]
    },
    {
      "cell_type": "code",
      "metadata": {
        "colab": {
          "base_uri": "https://localhost:8080/"
        },
        "id": "6x2d7Qqpe81h",
        "outputId": "3b40782c-72e6-402d-f705-50c7709012f4"
      },
      "source": [
        "stats,p=pearsonr(dataset['Personal Loan'],dataset['CreditCard'])\n",
        "print(stats,p)"
      ],
      "execution_count": 197,
      "outputs": [
        {
          "output_type": "stream",
          "text": [
            "0.002801508841555881 0.8430079402158692\n"
          ],
          "name": "stdout"
        }
      ]
    },
    {
      "cell_type": "markdown",
      "metadata": {
        "id": "rAtUNgVGgyZS"
      },
      "source": [
        "There is no significant correlation between the sanction of loan and CreditCard."
      ]
    },
    {
      "cell_type": "markdown",
      "metadata": {
        "id": "QrBGnT0Ag3zQ"
      },
      "source": [
        "## Applying the Model"
      ]
    },
    {
      "cell_type": "code",
      "metadata": {
        "colab": {
          "base_uri": "https://localhost:8080/"
        },
        "id": "Hhcb2xSbe-mL",
        "outputId": "fe61f82b-4398-4918-84c9-d4d249b346e4"
      },
      "source": [
        "import statsmodels.api as sm"
      ],
      "execution_count": 198,
      "outputs": [
        {
          "output_type": "stream",
          "text": [
            "/usr/local/lib/python3.7/dist-packages/statsmodels/tools/_testing.py:19: FutureWarning: pandas.util.testing is deprecated. Use the functions in the public API at pandas.testing instead.\n",
            "  import pandas.util.testing as tm\n"
          ],
          "name": "stderr"
        }
      ]
    },
    {
      "cell_type": "code",
      "metadata": {
        "id": "sxH3jodyg905"
      },
      "source": [
        "y=dataset['Personal Loan']\n",
        "x=dataset.drop(['Personal Loan'],axis=1)\n",
        "x1=sm.add_constant(x)"
      ],
      "execution_count": 202,
      "outputs": []
    },
    {
      "cell_type": "code",
      "metadata": {
        "colab": {
          "base_uri": "https://localhost:8080/"
        },
        "id": "AWYyjnQghCF2",
        "outputId": "912138ff-7c44-4893-e82b-4d1a8854e857"
      },
      "source": [
        "logistic=sm.Logit(y,x1)\n",
        "result=logistic.fit()"
      ],
      "execution_count": 203,
      "outputs": [
        {
          "output_type": "stream",
          "text": [
            "Optimization terminated successfully.\n",
            "         Current function value: 0.128435\n",
            "         Iterations 9\n"
          ],
          "name": "stdout"
        }
      ]
    },
    {
      "cell_type": "code",
      "metadata": {
        "colab": {
          "base_uri": "https://localhost:8080/",
          "height": 458
        },
        "id": "TSdn52eEhOzD",
        "outputId": "4db49649-ad4f-4774-96eb-3ba5255acd7e"
      },
      "source": [
        "result.summary()"
      ],
      "execution_count": 204,
      "outputs": [
        {
          "output_type": "execute_result",
          "data": {
            "text/html": [
              "<table class=\"simpletable\">\n",
              "<caption>Logit Regression Results</caption>\n",
              "<tr>\n",
              "  <th>Dep. Variable:</th>     <td>Personal Loan</td>  <th>  No. Observations:  </th>  <td>  5000</td> \n",
              "</tr>\n",
              "<tr>\n",
              "  <th>Model:</th>                 <td>Logit</td>      <th>  Df Residuals:      </th>  <td>  4988</td> \n",
              "</tr>\n",
              "<tr>\n",
              "  <th>Method:</th>                 <td>MLE</td>       <th>  Df Model:          </th>  <td>    11</td> \n",
              "</tr>\n",
              "<tr>\n",
              "  <th>Date:</th>            <td>Sat, 28 Aug 2021</td> <th>  Pseudo R-squ.:     </th>  <td>0.5938</td> \n",
              "</tr>\n",
              "<tr>\n",
              "  <th>Time:</th>                <td>06:51:01</td>     <th>  Log-Likelihood:    </th> <td> -642.18</td>\n",
              "</tr>\n",
              "<tr>\n",
              "  <th>converged:</th>             <td>True</td>       <th>  LL-Null:           </th> <td> -1581.0</td>\n",
              "</tr>\n",
              "<tr>\n",
              "  <th>Covariance Type:</th>     <td>nonrobust</td>    <th>  LLR p-value:       </th>  <td> 0.000</td> \n",
              "</tr>\n",
              "</table>\n",
              "<table class=\"simpletable\">\n",
              "<tr>\n",
              "           <td></td>             <th>coef</th>     <th>std err</th>      <th>z</th>      <th>P>|z|</th>  <th>[0.025</th>    <th>0.975]</th>  \n",
              "</tr>\n",
              "<tr>\n",
              "  <th>const</th>              <td>  -12.1928</td> <td>    1.645</td> <td>   -7.411</td> <td> 0.000</td> <td>  -15.417</td> <td>   -8.968</td>\n",
              "</tr>\n",
              "<tr>\n",
              "  <th>Age</th>                <td>   -0.0536</td> <td>    0.061</td> <td>   -0.874</td> <td> 0.382</td> <td>   -0.174</td> <td>    0.067</td>\n",
              "</tr>\n",
              "<tr>\n",
              "  <th>Experience</th>         <td>    0.0638</td> <td>    0.061</td> <td>    1.046</td> <td> 0.295</td> <td>   -0.056</td> <td>    0.183</td>\n",
              "</tr>\n",
              "<tr>\n",
              "  <th>Income</th>             <td>    0.0546</td> <td>    0.003</td> <td>   20.831</td> <td> 0.000</td> <td>    0.049</td> <td>    0.060</td>\n",
              "</tr>\n",
              "<tr>\n",
              "  <th>Family</th>             <td>    0.6958</td> <td>    0.074</td> <td>    9.364</td> <td> 0.000</td> <td>    0.550</td> <td>    0.841</td>\n",
              "</tr>\n",
              "<tr>\n",
              "  <th>CCAvg</th>              <td>    0.1240</td> <td>    0.040</td> <td>    3.127</td> <td> 0.002</td> <td>    0.046</td> <td>    0.202</td>\n",
              "</tr>\n",
              "<tr>\n",
              "  <th>Education</th>          <td>    1.7362</td> <td>    0.115</td> <td>   15.088</td> <td> 0.000</td> <td>    1.511</td> <td>    1.962</td>\n",
              "</tr>\n",
              "<tr>\n",
              "  <th>Mortgage</th>           <td>    0.0005</td> <td>    0.001</td> <td>    0.856</td> <td> 0.392</td> <td>   -0.001</td> <td>    0.002</td>\n",
              "</tr>\n",
              "<tr>\n",
              "  <th>Securities Account</th> <td>   -0.9368</td> <td>    0.286</td> <td>   -3.277</td> <td> 0.001</td> <td>   -1.497</td> <td>   -0.377</td>\n",
              "</tr>\n",
              "<tr>\n",
              "  <th>CD Account</th>         <td>    3.8225</td> <td>    0.324</td> <td>   11.800</td> <td> 0.000</td> <td>    3.188</td> <td>    4.457</td>\n",
              "</tr>\n",
              "<tr>\n",
              "  <th>Online</th>             <td>   -0.6752</td> <td>    0.157</td> <td>   -4.298</td> <td> 0.000</td> <td>   -0.983</td> <td>   -0.367</td>\n",
              "</tr>\n",
              "<tr>\n",
              "  <th>CreditCard</th>         <td>   -1.1197</td> <td>    0.205</td> <td>   -5.462</td> <td> 0.000</td> <td>   -1.522</td> <td>   -0.718</td>\n",
              "</tr>\n",
              "</table>"
            ],
            "text/plain": [
              "<class 'statsmodels.iolib.summary.Summary'>\n",
              "\"\"\"\n",
              "                           Logit Regression Results                           \n",
              "==============================================================================\n",
              "Dep. Variable:          Personal Loan   No. Observations:                 5000\n",
              "Model:                          Logit   Df Residuals:                     4988\n",
              "Method:                           MLE   Df Model:                           11\n",
              "Date:                Sat, 28 Aug 2021   Pseudo R-squ.:                  0.5938\n",
              "Time:                        06:51:01   Log-Likelihood:                -642.18\n",
              "converged:                       True   LL-Null:                       -1581.0\n",
              "Covariance Type:            nonrobust   LLR p-value:                     0.000\n",
              "======================================================================================\n",
              "                         coef    std err          z      P>|z|      [0.025      0.975]\n",
              "--------------------------------------------------------------------------------------\n",
              "const                -12.1928      1.645     -7.411      0.000     -15.417      -8.968\n",
              "Age                   -0.0536      0.061     -0.874      0.382      -0.174       0.067\n",
              "Experience             0.0638      0.061      1.046      0.295      -0.056       0.183\n",
              "Income                 0.0546      0.003     20.831      0.000       0.049       0.060\n",
              "Family                 0.6958      0.074      9.364      0.000       0.550       0.841\n",
              "CCAvg                  0.1240      0.040      3.127      0.002       0.046       0.202\n",
              "Education              1.7362      0.115     15.088      0.000       1.511       1.962\n",
              "Mortgage               0.0005      0.001      0.856      0.392      -0.001       0.002\n",
              "Securities Account    -0.9368      0.286     -3.277      0.001      -1.497      -0.377\n",
              "CD Account             3.8225      0.324     11.800      0.000       3.188       4.457\n",
              "Online                -0.6752      0.157     -4.298      0.000      -0.983      -0.367\n",
              "CreditCard            -1.1197      0.205     -5.462      0.000      -1.522      -0.718\n",
              "======================================================================================\n",
              "\"\"\""
            ]
          },
          "metadata": {},
          "execution_count": 204
        }
      ]
    },
    {
      "cell_type": "code",
      "metadata": {
        "id": "11yykY0Zhp9V"
      },
      "source": [
        ""
      ],
      "execution_count": null,
      "outputs": []
    }
  ]
}